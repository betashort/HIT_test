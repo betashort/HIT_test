{
 "cells": [
  {
   "cell_type": "code",
   "execution_count": null,
   "metadata": {},
   "outputs": [],
   "source": []
  },
  {
   "cell_type": "code",
   "execution_count": 1,
   "metadata": {},
   "outputs": [],
   "source": [
    "from extractQuestion import extractQuestion"
   ]
  },
  {
   "cell_type": "code",
   "execution_count": 2,
   "metadata": {},
   "outputs": [
    {
     "name": "stdout",
     "output_type": "stream",
     "text": [
      "['疾病予防 ー 一次予防', '早期発見 ー 一次予防', '再発予防 ー 二次予防', '事故予防 ー 二次予防', 'リハビリテーション ー 二次予防']\n"
     ]
    }
   ],
   "source": [
    "url = \"https://iryoujyouhou.wiki.fc2.com/wiki/2024%3E%E5%8C%BB%E5%AD%A6%E5%8C%BB%E7%99%82%E7%B3%BB%3E%E5%95%8F%E9%A1%8C%E3%81%A8%E8%A7%A3%E8%AA%AC%3E01\"\n",
    "extractQuestion(url)"
   ]
  },
  {
   "cell_type": "code",
   "execution_count": null,
   "metadata": {},
   "outputs": [],
   "source": []
  }
 ],
 "metadata": {
  "kernelspec": {
   "display_name": "web-scraping",
   "language": "python",
   "name": "web-scraping"
  },
  "language_info": {
   "codemirror_mode": {
    "name": "ipython",
    "version": 3
   },
   "file_extension": ".py",
   "mimetype": "text/x-python",
   "name": "python",
   "nbconvert_exporter": "python",
   "pygments_lexer": "ipython3",
   "version": "3.12.9"
  }
 },
 "nbformat": 4,
 "nbformat_minor": 2
}
