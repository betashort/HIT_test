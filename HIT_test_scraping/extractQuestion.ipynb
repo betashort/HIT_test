{
 "cells": [
  {
   "cell_type": "code",
   "execution_count": 1,
   "metadata": {},
   "outputs": [],
   "source": [
    "from selenium import webdriver\n",
    "from selenium.webdriver.chrome.options import Options\n",
    "from selenium.webdriver.common.by import By\n",
    "from selenium.webdriver.common.keys import Keys\n",
    "import re\n",
    "import json\n",
    "import time"
   ]
  },
  {
   "cell_type": "code",
   "execution_count": 2,
   "metadata": {},
   "outputs": [],
   "source": [
    "# Chrome\n",
    "options = Options()\n",
    "options.add_argument('--headless')\n",
    "# Chromeを起動\n",
    "driver = webdriver.Chrome(options=options)"
   ]
  },
  {
   "cell_type": "code",
   "execution_count": 23,
   "metadata": {},
   "outputs": [],
   "source": [
    "# 指定のURLを開く\n",
    "driver.get(\"https://iryoujyouhou.wiki.fc2.com/wiki/2024%3E%E5%8C%BB%E5%AD%A6%E5%8C%BB%E7%99%82%E7%B3%BB%3E%E5%95%8F%E9%A1%8C%E3%81%A8%E8%A7%A3%E8%AA%AC%3E46\")"
   ]
  },
  {
   "cell_type": "code",
   "execution_count": 24,
   "metadata": {},
   "outputs": [],
   "source": [
    "##非表示要素を表示する\n",
    "driver.find_element(By.XPATH, '//div[@class=\"region\"]/p/span').click()"
   ]
  },
  {
   "cell_type": "markdown",
   "metadata": {},
   "source": [
    "## 問題文を取得"
   ]
  },
  {
   "cell_type": "code",
   "execution_count": 25,
   "metadata": {},
   "outputs": [
    {
     "name": "stdout",
     "output_type": "stream",
     "text": [
      "問46, 連続変量にあたるのはどれか。(解2)\n"
     ]
    }
   ],
   "source": [
    "## 問題文を取得\n",
    "elements = driver.find_element(By.XPATH, '//div[@class=\"user_body\"]/div/span')\n",
    "question = elements.text\n",
    "extract_question_num_pattern = r\"^問\\d+\"\n",
    "exclude_question_pattern = r\"^問\\d+$\"\n",
    "question_num = re.findall(extract_question_num_pattern, question)[0]\n",
    "if re.fullmatch(exclude_question_pattern, question):\n",
    "    elements = driver.find_elements(By.XPATH, '//div[@class=\"user_body\"]/div')\n",
    "    question = elements[1].text\n",
    "else:\n",
    "    question = re.sub(extract_question_num_pattern, \"\", question)\n",
    "\n",
    "print(f\"{question_num}, {question}\")"
   ]
  },
  {
   "cell_type": "markdown",
   "metadata": {},
   "source": [
    "## 選択肢を取得"
   ]
  },
  {
   "cell_type": "code",
   "execution_count": 26,
   "metadata": {},
   "outputs": [
    {
     "data": {
      "text/plain": [
       "10"
      ]
     },
     "execution_count": 26,
     "metadata": {},
     "output_type": "execute_result"
    }
   ],
   "source": [
    "\n",
    "elements = driver.find_elements(By.XPATH, '//div[@class=\"user_body\"]/div')\n",
    "len(elements)"
   ]
  },
  {
   "cell_type": "code",
   "execution_count": 27,
   "metadata": {},
   "outputs": [],
   "source": [
    "pattern = r\"^\\d+\\)\""
   ]
  },
  {
   "cell_type": "code",
   "execution_count": 28,
   "metadata": {},
   "outputs": [
    {
     "name": "stdout",
     "output_type": "stream",
     "text": [
      "1) 血圧\n",
      "2) 身長\n",
      "3) 性別\n",
      "4) 健康状態\n",
      "5) 家族の人数\n",
      "['血圧', '身長', '性別', '健康状態', '家族の人数']\n"
     ]
    }
   ],
   "source": [
    "select_text_list = []\n",
    "for el in elements:\n",
    "    if re.search(pattern, el.text):\n",
    "        if re.search(\"解答\", el.text):\n",
    "            break\n",
    "        else:\n",
    "            print(el.text)\n",
    "            select_text = re.sub(pattern, \"\", el.text)\n",
    "            select_text = re.sub(\"　\", \" \", select_text) \n",
    "            select_text = re.sub(\" \", \"\", select_text) \n",
    "            select_text_list.append(select_text)\n",
    "print(select_text_list)"
   ]
  },
  {
   "cell_type": "markdown",
   "metadata": {},
   "source": [
    "## 解答を取得"
   ]
  },
  {
   "cell_type": "code",
   "execution_count": 10,
   "metadata": {},
   "outputs": [
    {
     "data": {
      "text/plain": [
       "7"
      ]
     },
     "execution_count": 10,
     "metadata": {},
     "output_type": "execute_result"
    }
   ],
   "source": [
    "## 回答を取得\n",
    "elements = driver.find_elements(By.XPATH, '//div[@class=\"region\"]/div/div')\n",
    "len(elements)"
   ]
  },
  {
   "cell_type": "code",
   "execution_count": 11,
   "metadata": {},
   "outputs": [
    {
     "name": "stdout",
     "output_type": "stream",
     "text": [
      "5\n"
     ]
    }
   ],
   "source": [
    "pattern = r\"解答】\"\n",
    "for el in elements:\n",
    "    el_text = el.text\n",
    "    if re.search(pattern, el_text):\n",
    "        answer = el.text\n",
    "        answer = re.sub(pattern, \"\", answer)\n",
    "        answer = re.sub(\"　\", \"\", answer)\n",
    "        print(answer)"
   ]
  },
  {
   "cell_type": "markdown",
   "metadata": {},
   "source": [
    "## jsonに保存"
   ]
  },
  {
   "cell_type": "code",
   "execution_count": 67,
   "metadata": {},
   "outputs": [],
   "source": [
    "question_json = {\n",
    "    \"question\": \"問題1\",\n",
    "    \"selects\": select_text_list,\n",
    "    \"answer\": \"1\"\n",
    "}"
   ]
  },
  {
   "cell_type": "code",
   "execution_count": 68,
   "metadata": {},
   "outputs": [
    {
     "data": {
      "text/plain": [
       "{'question': '問題1',\n",
       " 'selects': ['疾病予防 ー 一次予防',\n",
       "  '早期発見 ー 一次予防',\n",
       "  '再発予防 ー 二次予防',\n",
       "  '事故予防 ー 二次予防',\n",
       "  'リハビリテーション ー 二次予防'],\n",
       " 'answer': '1'}"
      ]
     },
     "execution_count": 68,
     "metadata": {},
     "output_type": "execute_result"
    }
   ],
   "source": [
    "question_json"
   ]
  },
  {
   "cell_type": "code",
   "execution_count": 69,
   "metadata": {},
   "outputs": [],
   "source": [
    "with open('test.json', 'w', encoding=\"utf-8\") as f:\n",
    "    json.dump(question_json, f, ensure_ascii=False)"
   ]
  },
  {
   "cell_type": "code",
   "execution_count": 33,
   "metadata": {},
   "outputs": [],
   "source": [
    "# ブラウザを閉じる\n",
    "driver.quit()"
   ]
  },
  {
   "cell_type": "code",
   "execution_count": 18,
   "metadata": {},
   "outputs": [],
   "source": [
    "import json"
   ]
  },
  {
   "cell_type": "code",
   "execution_count": null,
   "metadata": {},
   "outputs": [],
   "source": []
  }
 ],
 "metadata": {
  "kernelspec": {
   "display_name": "web-scraping",
   "language": "python",
   "name": "web-scraping"
  },
  "language_info": {
   "codemirror_mode": {
    "name": "ipython",
    "version": 3
   },
   "file_extension": ".py",
   "mimetype": "text/x-python",
   "name": "python",
   "nbconvert_exporter": "python",
   "pygments_lexer": "ipython3",
   "version": "3.12.9"
  }
 },
 "nbformat": 4,
 "nbformat_minor": 2
}
