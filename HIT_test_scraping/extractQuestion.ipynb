{
 "cells": [
  {
   "cell_type": "code",
   "execution_count": 46,
   "metadata": {},
   "outputs": [],
   "source": [
    "from selenium import webdriver\n",
    "from selenium.webdriver.common.by import By\n",
    "from selenium.webdriver.common.keys import Keys\n",
    "import re\n",
    "import json\n",
    "import time"
   ]
  },
  {
   "cell_type": "code",
   "execution_count": 35,
   "metadata": {},
   "outputs": [],
   "source": [
    "# Chromeを起動\n",
    "driver = webdriver.Chrome()"
   ]
  },
  {
   "cell_type": "code",
   "execution_count": null,
   "metadata": {},
   "outputs": [],
   "source": [
    "# 指定のURLを開く\n",
    "driver.get(\"https://iryoujyouhou.wiki.fc2.com/wiki/2024%3E%E5%8C%BB%E5%AD%A6%E5%8C%BB%E7%99%82%E7%B3%BB%3E%E5%95%8F%E9%A1%8C%E3%81%A8%E8%A7%A3%E8%AA%AC\")"
   ]
  },
  {
   "cell_type": "code",
   "execution_count": null,
   "metadata": {},
   "outputs": [],
   "source": [
    "# 2秒待機（ページの読み込みを待つ）\n",
    "time.sleep(2)"
   ]
  },
  {
   "cell_type": "code",
   "execution_count": 31,
   "metadata": {},
   "outputs": [
    {
     "name": "stdout",
     "output_type": "stream",
     "text": [
      "None\n"
     ]
    }
   ],
   "source": [
    "elements = driver.find_elements(By.CLASS_NAME, \"table\")\n",
    "\n",
    "for el in elements:\n",
    "    print(el.get_attribute(\"href\"))"
   ]
  },
  {
   "cell_type": "code",
   "execution_count": 36,
   "metadata": {},
   "outputs": [],
   "source": [
    "# 指定のURLを開く\n",
    "driver.get(\"https://iryoujyouhou.wiki.fc2.com/wiki/2024%3E%E5%8C%BB%E5%AD%A6%E5%8C%BB%E7%99%82%E7%B3%BB%3E%E5%95%8F%E9%A1%8C%E3%81%A8%E8%A7%A3%E8%AA%AC%3E01\")"
   ]
  },
  {
   "cell_type": "code",
   "execution_count": null,
   "metadata": {},
   "outputs": [],
   "source": [
    "##非表示要素を表示する\n",
    "driver.find_element(By.XPATH, '//div[@class=\"region\"]/p/span').click()"
   ]
  },
  {
   "cell_type": "markdown",
   "metadata": {},
   "source": [
    "## 問題文を取得"
   ]
  },
  {
   "cell_type": "code",
   "execution_count": 172,
   "metadata": {},
   "outputs": [
    {
     "name": "stdout",
     "output_type": "stream",
     "text": [
      "問1,  予防医学の内容とその領域の組み合わせで正しいものはどれか。\n"
     ]
    }
   ],
   "source": [
    "## 問題文を取得\n",
    "elements = driver.find_element(By.XPATH, '//div[@class=\"user_body\"]/div/span')\n",
    "question = elements.text\n",
    "pattern = r\"^問\\d+\"\n",
    "question_num = re.findall(pattern, question)[0]\n",
    "question = re.sub(pattern, \"\", question)\n",
    "\n",
    "print(f\"{question_num}, {question}\")"
   ]
  },
  {
   "cell_type": "markdown",
   "metadata": {},
   "source": [
    "## 選択肢を取得"
   ]
  },
  {
   "cell_type": "code",
   "execution_count": 173,
   "metadata": {},
   "outputs": [
    {
     "data": {
      "text/plain": [
       "9"
      ]
     },
     "execution_count": 173,
     "metadata": {},
     "output_type": "execute_result"
    }
   ],
   "source": [
    "\n",
    "elements = driver.find_elements(By.XPATH, '//div[@class=\"user_body\"]/div')\n",
    "len(elements)"
   ]
  },
  {
   "cell_type": "code",
   "execution_count": null,
   "metadata": {},
   "outputs": [],
   "source": [
    "pattern = r\"\\d+\\)　\""
   ]
  },
  {
   "cell_type": "code",
   "execution_count": 175,
   "metadata": {},
   "outputs": [
    {
     "name": "stdout",
     "output_type": "stream",
     "text": [
      "['疾病予防 ー 一次予防', '早期発見 ー 一次予防', '再発予防 ー 二次予防', '事故予防 ー 二次予防', 'リハビリテーション ー 二次予防']\n"
     ]
    }
   ],
   "source": [
    "select_text_list = []\n",
    "for el in elements:\n",
    "    if re.search(pattern, el.text):\n",
    "        if re.search(\"解答\", el.text):\n",
    "            break\n",
    "        else:\n",
    "            select_text = re.sub(pattern, \"\", el.text)\n",
    "            select_text = re.sub(\"　\", \" \", select_text) \n",
    "            select_text_list.append(select_text)\n",
    "print(select_text_list)"
   ]
  },
  {
   "cell_type": "markdown",
   "metadata": {},
   "source": [
    "## 解答を取得"
   ]
  },
  {
   "cell_type": "code",
   "execution_count": 150,
   "metadata": {},
   "outputs": [
    {
     "data": {
      "text/plain": [
       "7"
      ]
     },
     "execution_count": 150,
     "metadata": {},
     "output_type": "execute_result"
    }
   ],
   "source": [
    "## 回答を取得\n",
    "elements = driver.find_elements(By.XPATH, '//div[@class=\"region\"]/div/div')\n",
    "len(elements)"
   ]
  },
  {
   "cell_type": "code",
   "execution_count": 152,
   "metadata": {},
   "outputs": [
    {
     "name": "stdout",
     "output_type": "stream",
     "text": [
      " 1\n"
     ]
    }
   ],
   "source": [
    "pattern = r\"解答】\"\n",
    "for el in elements:\n",
    "    el_text = el.text\n",
    "    if re.search(pattern, el_text):\n",
    "        answer = el.text\n",
    "        answer = re.sub(pattern, \"\", answer)\n",
    "        answer = re.sub(\"　\", \"\", answer)\n",
    "        print(answer)"
   ]
  },
  {
   "cell_type": "markdown",
   "metadata": {},
   "source": [
    "## jsonに保存"
   ]
  },
  {
   "cell_type": "code",
   "execution_count": 67,
   "metadata": {},
   "outputs": [],
   "source": [
    "question_json = {\n",
    "    \"question\": \"問題1\",\n",
    "    \"selects\": select_text_list,\n",
    "    \"answer\": \"1\"\n",
    "}"
   ]
  },
  {
   "cell_type": "code",
   "execution_count": 68,
   "metadata": {},
   "outputs": [
    {
     "data": {
      "text/plain": [
       "{'question': '問題1',\n",
       " 'selects': ['疾病予防 ー 一次予防',\n",
       "  '早期発見 ー 一次予防',\n",
       "  '再発予防 ー 二次予防',\n",
       "  '事故予防 ー 二次予防',\n",
       "  'リハビリテーション ー 二次予防'],\n",
       " 'answer': '1'}"
      ]
     },
     "execution_count": 68,
     "metadata": {},
     "output_type": "execute_result"
    }
   ],
   "source": [
    "question_json"
   ]
  },
  {
   "cell_type": "code",
   "execution_count": 69,
   "metadata": {},
   "outputs": [],
   "source": [
    "with open('test.json', 'w', encoding=\"utf-8\") as f:\n",
    "    json.dump(question_json, f, ensure_ascii=False)"
   ]
  },
  {
   "cell_type": "code",
   "execution_count": 33,
   "metadata": {},
   "outputs": [],
   "source": [
    "# ブラウザを閉じる\n",
    "driver.quit()"
   ]
  },
  {
   "cell_type": "code",
   "execution_count": 18,
   "metadata": {},
   "outputs": [],
   "source": [
    "import json"
   ]
  },
  {
   "cell_type": "code",
   "execution_count": null,
   "metadata": {},
   "outputs": [],
   "source": []
  }
 ],
 "metadata": {
  "kernelspec": {
   "display_name": "web-scraping",
   "language": "python",
   "name": "web-scraping"
  },
  "language_info": {
   "codemirror_mode": {
    "name": "ipython",
    "version": 3
   },
   "file_extension": ".py",
   "mimetype": "text/x-python",
   "name": "python",
   "nbconvert_exporter": "python",
   "pygments_lexer": "ipython3",
   "version": "3.12.9"
  }
 },
 "nbformat": 4,
 "nbformat_minor": 2
}
