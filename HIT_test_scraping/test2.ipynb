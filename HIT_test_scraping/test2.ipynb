{
 "cells": [
  {
   "cell_type": "code",
   "execution_count": 1,
   "metadata": {},
   "outputs": [],
   "source": [
    "import os\n",
    "import time\n",
    "\n",
    "from extractQuestionUrls import extractQuestionUrls\n",
    "from extractQuestion import extractQuestion"
   ]
  },
  {
   "cell_type": "code",
   "execution_count": null,
   "metadata": {},
   "outputs": [],
   "source": []
  },
  {
   "cell_type": "code",
   "execution_count": 6,
   "metadata": {},
   "outputs": [
    {
     "name": "stdout",
     "output_type": "stream",
     "text": [
      "create folder: 2024/医療情報システム系\n"
     ]
    }
   ],
   "source": [
    "url = \"https://iryoujyouhou.wiki.fc2.com/wiki/2024%3E%E5%8C%BB%E7%99%82%E6%83%85%E5%A0%B1%E3%82%B7%E3%82%B9%E3%83%86%E3%83%A0%E7%B3%BB%3E%E5%95%8F%E9%A1%8C%E3%81%A8%E8%A7%A3%E8%AA%AC\"\n",
    "folder_path, question_urls = extractQuestionUrls(url)"
   ]
  },
  {
   "cell_type": "code",
   "execution_count": 7,
   "metadata": {},
   "outputs": [
    {
     "data": {
      "text/plain": [
       "'2024/医療情報システム系'"
      ]
     },
     "execution_count": 7,
     "metadata": {},
     "output_type": "execute_result"
    }
   ],
   "source": [
    "folder_path"
   ]
  },
  {
   "cell_type": "code",
   "execution_count": 8,
   "metadata": {},
   "outputs": [
    {
     "data": {
      "text/plain": [
       "['https://iryoujyouhou.wiki.fc2.com/wiki/2024%3E%E5%8C%BB%E7%99%82%E6%83%85%E5%A0%B1%E3%82%B7%E3%82%B9%E3%83%86%E3%83%A0%E7%B3%BB%3E%E5%95%8F%E9%A1%8C%E3%81%A8%E8%A7%A3%E8%AA%AC%3E01',\n",
       " 'https://iryoujyouhou.wiki.fc2.com/wiki/2024%3E%E5%8C%BB%E7%99%82%E6%83%85%E5%A0%B1%E3%82%B7%E3%82%B9%E3%83%86%E3%83%A0%E7%B3%BB%3E%E5%95%8F%E9%A1%8C%E3%81%A8%E8%A7%A3%E8%AA%AC%3E31',\n",
       " 'https://iryoujyouhou.wiki.fc2.com/wiki/2024%3E%E5%8C%BB%E7%99%82%E6%83%85%E5%A0%B1%E3%82%B7%E3%82%B9%E3%83%86%E3%83%A0%E7%B3%BB%3E%E5%95%8F%E9%A1%8C%E3%81%A8%E8%A7%A3%E8%AA%AC%3E02',\n",
       " 'https://iryoujyouhou.wiki.fc2.com/wiki/2024%3E%E5%8C%BB%E7%99%82%E6%83%85%E5%A0%B1%E3%82%B7%E3%82%B9%E3%83%86%E3%83%A0%E7%B3%BB%3E%E5%95%8F%E9%A1%8C%E3%81%A8%E8%A7%A3%E8%AA%AC%3E32',\n",
       " 'https://iryoujyouhou.wiki.fc2.com/wiki/2024%3E%E5%8C%BB%E7%99%82%E6%83%85%E5%A0%B1%E3%82%B7%E3%82%B9%E3%83%86%E3%83%A0%E7%B3%BB%3E%E5%95%8F%E9%A1%8C%E3%81%A8%E8%A7%A3%E8%AA%AC%3E03',\n",
       " 'https://iryoujyouhou.wiki.fc2.com/wiki/2024%3E%E5%8C%BB%E7%99%82%E6%83%85%E5%A0%B1%E3%82%B7%E3%82%B9%E3%83%86%E3%83%A0%E7%B3%BB%3E%E5%95%8F%E9%A1%8C%E3%81%A8%E8%A7%A3%E8%AA%AC%3E33',\n",
       " 'https://iryoujyouhou.wiki.fc2.com/wiki/2024%3E%E5%8C%BB%E7%99%82%E6%83%85%E5%A0%B1%E3%82%B7%E3%82%B9%E3%83%86%E3%83%A0%E7%B3%BB%3E%E5%95%8F%E9%A1%8C%E3%81%A8%E8%A7%A3%E8%AA%AC%3E04',\n",
       " 'https://iryoujyouhou.wiki.fc2.com/wiki/2024%3E%E5%8C%BB%E7%99%82%E6%83%85%E5%A0%B1%E3%82%B7%E3%82%B9%E3%83%86%E3%83%A0%E7%B3%BB%3E%E5%95%8F%E9%A1%8C%E3%81%A8%E8%A7%A3%E8%AA%AC%3E34',\n",
       " 'https://iryoujyouhou.wiki.fc2.com/wiki/2024%3E%E5%8C%BB%E7%99%82%E6%83%85%E5%A0%B1%E3%82%B7%E3%82%B9%E3%83%86%E3%83%A0%E7%B3%BB%3E%E5%95%8F%E9%A1%8C%E3%81%A8%E8%A7%A3%E8%AA%AC%3E05',\n",
       " 'https://iryoujyouhou.wiki.fc2.com/wiki/2024%3E%E5%8C%BB%E7%99%82%E6%83%85%E5%A0%B1%E3%82%B7%E3%82%B9%E3%83%86%E3%83%A0%E7%B3%BB%3E%E5%95%8F%E9%A1%8C%E3%81%A8%E8%A7%A3%E8%AA%AC%3E35',\n",
       " 'https://iryoujyouhou.wiki.fc2.com/wiki/2024%3E%E5%8C%BB%E7%99%82%E6%83%85%E5%A0%B1%E3%82%B7%E3%82%B9%E3%83%86%E3%83%A0%E7%B3%BB%3E%E5%95%8F%E9%A1%8C%E3%81%A8%E8%A7%A3%E8%AA%AC%3E06',\n",
       " 'https://iryoujyouhou.wiki.fc2.com/wiki/2024%3E%E5%8C%BB%E7%99%82%E6%83%85%E5%A0%B1%E3%82%B7%E3%82%B9%E3%83%86%E3%83%A0%E7%B3%BB%3E%E5%95%8F%E9%A1%8C%E3%81%A8%E8%A7%A3%E8%AA%AC%3E36',\n",
       " 'https://iryoujyouhou.wiki.fc2.com/wiki/2024%3E%E5%8C%BB%E7%99%82%E6%83%85%E5%A0%B1%E3%82%B7%E3%82%B9%E3%83%86%E3%83%A0%E7%B3%BB%3E%E5%95%8F%E9%A1%8C%E3%81%A8%E8%A7%A3%E8%AA%AC%3E07',\n",
       " 'https://iryoujyouhou.wiki.fc2.com/wiki/2024%3E%E5%8C%BB%E7%99%82%E6%83%85%E5%A0%B1%E3%82%B7%E3%82%B9%E3%83%86%E3%83%A0%E7%B3%BB%3E%E5%95%8F%E9%A1%8C%E3%81%A8%E8%A7%A3%E8%AA%AC%3E37',\n",
       " 'https://iryoujyouhou.wiki.fc2.com/wiki/2024%3E%E5%8C%BB%E7%99%82%E6%83%85%E5%A0%B1%E3%82%B7%E3%82%B9%E3%83%86%E3%83%A0%E7%B3%BB%3E%E5%95%8F%E9%A1%8C%E3%81%A8%E8%A7%A3%E8%AA%AC%3E08',\n",
       " 'https://iryoujyouhou.wiki.fc2.com/wiki/2024%3E%E5%8C%BB%E7%99%82%E6%83%85%E5%A0%B1%E3%82%B7%E3%82%B9%E3%83%86%E3%83%A0%E7%B3%BB%3E%E5%95%8F%E9%A1%8C%E3%81%A8%E8%A7%A3%E8%AA%AC%3E38',\n",
       " 'https://iryoujyouhou.wiki.fc2.com/wiki/2024%3E%E5%8C%BB%E7%99%82%E6%83%85%E5%A0%B1%E3%82%B7%E3%82%B9%E3%83%86%E3%83%A0%E7%B3%BB%3E%E5%95%8F%E9%A1%8C%E3%81%A8%E8%A7%A3%E8%AA%AC%3E09',\n",
       " 'https://iryoujyouhou.wiki.fc2.com/wiki/2024%3E%E5%8C%BB%E7%99%82%E6%83%85%E5%A0%B1%E3%82%B7%E3%82%B9%E3%83%86%E3%83%A0%E7%B3%BB%3E%E5%95%8F%E9%A1%8C%E3%81%A8%E8%A7%A3%E8%AA%AC%3E39',\n",
       " 'https://iryoujyouhou.wiki.fc2.com/wiki/2024%3E%E5%8C%BB%E7%99%82%E6%83%85%E5%A0%B1%E3%82%B7%E3%82%B9%E3%83%86%E3%83%A0%E7%B3%BB%3E%E5%95%8F%E9%A1%8C%E3%81%A8%E8%A7%A3%E8%AA%AC%3E10',\n",
       " 'https://iryoujyouhou.wiki.fc2.com/wiki/2024%3E%E5%8C%BB%E7%99%82%E6%83%85%E5%A0%B1%E3%82%B7%E3%82%B9%E3%83%86%E3%83%A0%E7%B3%BB%3E%E5%95%8F%E9%A1%8C%E3%81%A8%E8%A7%A3%E8%AA%AC%3E40',\n",
       " 'https://iryoujyouhou.wiki.fc2.com/wiki/2024%3E%E5%8C%BB%E7%99%82%E6%83%85%E5%A0%B1%E3%82%B7%E3%82%B9%E3%83%86%E3%83%A0%E7%B3%BB%3E%E5%95%8F%E9%A1%8C%E3%81%A8%E8%A7%A3%E8%AA%AC%3E11',\n",
       " 'https://iryoujyouhou.wiki.fc2.com/wiki/2024%3E%E5%8C%BB%E7%99%82%E6%83%85%E5%A0%B1%E3%82%B7%E3%82%B9%E3%83%86%E3%83%A0%E7%B3%BB%3E%E5%95%8F%E9%A1%8C%E3%81%A8%E8%A7%A3%E8%AA%AC%3E41',\n",
       " 'https://iryoujyouhou.wiki.fc2.com/wiki/2024%3E%E5%8C%BB%E7%99%82%E6%83%85%E5%A0%B1%E3%82%B7%E3%82%B9%E3%83%86%E3%83%A0%E7%B3%BB%3E%E5%95%8F%E9%A1%8C%E3%81%A8%E8%A7%A3%E8%AA%AC%3E12',\n",
       " 'https://iryoujyouhou.wiki.fc2.com/wiki/2024%3E%E5%8C%BB%E7%99%82%E6%83%85%E5%A0%B1%E3%82%B7%E3%82%B9%E3%83%86%E3%83%A0%E7%B3%BB%3E%E5%95%8F%E9%A1%8C%E3%81%A8%E8%A7%A3%E8%AA%AC%3E42',\n",
       " 'https://iryoujyouhou.wiki.fc2.com/wiki/2024%3E%E5%8C%BB%E7%99%82%E6%83%85%E5%A0%B1%E3%82%B7%E3%82%B9%E3%83%86%E3%83%A0%E7%B3%BB%3E%E5%95%8F%E9%A1%8C%E3%81%A8%E8%A7%A3%E8%AA%AC%3E13',\n",
       " 'https://iryoujyouhou.wiki.fc2.com/wiki/2024%3E%E5%8C%BB%E7%99%82%E6%83%85%E5%A0%B1%E3%82%B7%E3%82%B9%E3%83%86%E3%83%A0%E7%B3%BB%3E%E5%95%8F%E9%A1%8C%E3%81%A8%E8%A7%A3%E8%AA%AC%3E43',\n",
       " 'https://iryoujyouhou.wiki.fc2.com/wiki/2024%3E%E5%8C%BB%E7%99%82%E6%83%85%E5%A0%B1%E3%82%B7%E3%82%B9%E3%83%86%E3%83%A0%E7%B3%BB%3E%E5%95%8F%E9%A1%8C%E3%81%A8%E8%A7%A3%E8%AA%AC%3E14',\n",
       " 'https://iryoujyouhou.wiki.fc2.com/wiki/2024%3E%E5%8C%BB%E7%99%82%E6%83%85%E5%A0%B1%E3%82%B7%E3%82%B9%E3%83%86%E3%83%A0%E7%B3%BB%3E%E5%95%8F%E9%A1%8C%E3%81%A8%E8%A7%A3%E8%AA%AC%3E44',\n",
       " 'https://iryoujyouhou.wiki.fc2.com/wiki/2024%3E%E5%8C%BB%E7%99%82%E6%83%85%E5%A0%B1%E3%82%B7%E3%82%B9%E3%83%86%E3%83%A0%E7%B3%BB%3E%E5%95%8F%E9%A1%8C%E3%81%A8%E8%A7%A3%E8%AA%AC%3E15',\n",
       " 'https://iryoujyouhou.wiki.fc2.com/wiki/2024%3E%E5%8C%BB%E7%99%82%E6%83%85%E5%A0%B1%E3%82%B7%E3%82%B9%E3%83%86%E3%83%A0%E7%B3%BB%3E%E5%95%8F%E9%A1%8C%E3%81%A8%E8%A7%A3%E8%AA%AC%3E45',\n",
       " 'https://iryoujyouhou.wiki.fc2.com/wiki/2024%3E%E5%8C%BB%E7%99%82%E6%83%85%E5%A0%B1%E3%82%B7%E3%82%B9%E3%83%86%E3%83%A0%E7%B3%BB%3E%E5%95%8F%E9%A1%8C%E3%81%A8%E8%A7%A3%E8%AA%AC%3E16',\n",
       " 'https://iryoujyouhou.wiki.fc2.com/wiki/2024%3E%E5%8C%BB%E7%99%82%E6%83%85%E5%A0%B1%E3%82%B7%E3%82%B9%E3%83%86%E3%83%A0%E7%B3%BB%3E%E5%95%8F%E9%A1%8C%E3%81%A8%E8%A7%A3%E8%AA%AC%3E46',\n",
       " 'https://iryoujyouhou.wiki.fc2.com/wiki/2024%3E%E5%8C%BB%E7%99%82%E6%83%85%E5%A0%B1%E3%82%B7%E3%82%B9%E3%83%86%E3%83%A0%E7%B3%BB%3E%E5%95%8F%E9%A1%8C%E3%81%A8%E8%A7%A3%E8%AA%AC%3E17',\n",
       " 'https://iryoujyouhou.wiki.fc2.com/wiki/2024%3E%E5%8C%BB%E7%99%82%E6%83%85%E5%A0%B1%E3%82%B7%E3%82%B9%E3%83%86%E3%83%A0%E7%B3%BB%3E%E5%95%8F%E9%A1%8C%E3%81%A8%E8%A7%A3%E8%AA%AC%3E47',\n",
       " 'https://iryoujyouhou.wiki.fc2.com/wiki/2024%3E%E5%8C%BB%E7%99%82%E6%83%85%E5%A0%B1%E3%82%B7%E3%82%B9%E3%83%86%E3%83%A0%E7%B3%BB%3E%E5%95%8F%E9%A1%8C%E3%81%A8%E8%A7%A3%E8%AA%AC%3E18',\n",
       " 'https://iryoujyouhou.wiki.fc2.com/wiki/2024%3E%E5%8C%BB%E7%99%82%E6%83%85%E5%A0%B1%E3%82%B7%E3%82%B9%E3%83%86%E3%83%A0%E7%B3%BB%3E%E5%95%8F%E9%A1%8C%E3%81%A8%E8%A7%A3%E8%AA%AC%3E48',\n",
       " 'https://iryoujyouhou.wiki.fc2.com/wiki/2024%3E%E5%8C%BB%E7%99%82%E6%83%85%E5%A0%B1%E3%82%B7%E3%82%B9%E3%83%86%E3%83%A0%E7%B3%BB%3E%E5%95%8F%E9%A1%8C%E3%81%A8%E8%A7%A3%E8%AA%AC%3E19',\n",
       " 'https://iryoujyouhou.wiki.fc2.com/wiki/2024%3E%E5%8C%BB%E7%99%82%E6%83%85%E5%A0%B1%E3%82%B7%E3%82%B9%E3%83%86%E3%83%A0%E7%B3%BB%3E%E5%95%8F%E9%A1%8C%E3%81%A8%E8%A7%A3%E8%AA%AC%3E49',\n",
       " 'https://iryoujyouhou.wiki.fc2.com/wiki/2024%3E%E5%8C%BB%E7%99%82%E6%83%85%E5%A0%B1%E3%82%B7%E3%82%B9%E3%83%86%E3%83%A0%E7%B3%BB%3E%E5%95%8F%E9%A1%8C%E3%81%A8%E8%A7%A3%E8%AA%AC%3E20',\n",
       " 'https://iryoujyouhou.wiki.fc2.com/wiki/2024%3E%E5%8C%BB%E7%99%82%E6%83%85%E5%A0%B1%E3%82%B7%E3%82%B9%E3%83%86%E3%83%A0%E7%B3%BB%3E%E5%95%8F%E9%A1%8C%E3%81%A8%E8%A7%A3%E8%AA%AC%3E50',\n",
       " 'https://iryoujyouhou.wiki.fc2.com/wiki/2024%3E%E5%8C%BB%E7%99%82%E6%83%85%E5%A0%B1%E3%82%B7%E3%82%B9%E3%83%86%E3%83%A0%E7%B3%BB%3E%E5%95%8F%E9%A1%8C%E3%81%A8%E8%A7%A3%E8%AA%AC%3E21',\n",
       " 'https://iryoujyouhou.wiki.fc2.com/wiki/2024%3E%E5%8C%BB%E7%99%82%E6%83%85%E5%A0%B1%E3%82%B7%E3%82%B9%E3%83%86%E3%83%A0%E7%B3%BB%3E%E5%95%8F%E9%A1%8C%E3%81%A8%E8%A7%A3%E8%AA%AC%3E51',\n",
       " 'https://iryoujyouhou.wiki.fc2.com/wiki/2024%3E%E5%8C%BB%E7%99%82%E6%83%85%E5%A0%B1%E3%82%B7%E3%82%B9%E3%83%86%E3%83%A0%E7%B3%BB%3E%E5%95%8F%E9%A1%8C%E3%81%A8%E8%A7%A3%E8%AA%AC%3E22',\n",
       " 'https://iryoujyouhou.wiki.fc2.com/wiki/2024%3E%E5%8C%BB%E7%99%82%E6%83%85%E5%A0%B1%E3%82%B7%E3%82%B9%E3%83%86%E3%83%A0%E7%B3%BB%3E%E5%95%8F%E9%A1%8C%E3%81%A8%E8%A7%A3%E8%AA%AC%3E52',\n",
       " 'https://iryoujyouhou.wiki.fc2.com/wiki/2024%3E%E5%8C%BB%E7%99%82%E6%83%85%E5%A0%B1%E3%82%B7%E3%82%B9%E3%83%86%E3%83%A0%E7%B3%BB%3E%E5%95%8F%E9%A1%8C%E3%81%A8%E8%A7%A3%E8%AA%AC%3E23',\n",
       " 'https://iryoujyouhou.wiki.fc2.com/wiki/2024%3E%E5%8C%BB%E7%99%82%E6%83%85%E5%A0%B1%E3%82%B7%E3%82%B9%E3%83%86%E3%83%A0%E7%B3%BB%3E%E5%95%8F%E9%A1%8C%E3%81%A8%E8%A7%A3%E8%AA%AC%3E53',\n",
       " 'https://iryoujyouhou.wiki.fc2.com/wiki/2024%3E%E5%8C%BB%E7%99%82%E6%83%85%E5%A0%B1%E3%82%B7%E3%82%B9%E3%83%86%E3%83%A0%E7%B3%BB%3E%E5%95%8F%E9%A1%8C%E3%81%A8%E8%A7%A3%E8%AA%AC%3E24',\n",
       " 'https://iryoujyouhou.wiki.fc2.com/wiki/2024%3E%E5%8C%BB%E7%99%82%E6%83%85%E5%A0%B1%E3%82%B7%E3%82%B9%E3%83%86%E3%83%A0%E7%B3%BB%3E%E5%95%8F%E9%A1%8C%E3%81%A8%E8%A7%A3%E8%AA%AC%3E54',\n",
       " 'https://iryoujyouhou.wiki.fc2.com/wiki/2024%3E%E5%8C%BB%E7%99%82%E6%83%85%E5%A0%B1%E3%82%B7%E3%82%B9%E3%83%86%E3%83%A0%E7%B3%BB%3E%E5%95%8F%E9%A1%8C%E3%81%A8%E8%A7%A3%E8%AA%AC%3E25',\n",
       " 'https://iryoujyouhou.wiki.fc2.com/wiki/2024%3E%E5%8C%BB%E7%99%82%E6%83%85%E5%A0%B1%E3%82%B7%E3%82%B9%E3%83%86%E3%83%A0%E7%B3%BB%3E%E5%95%8F%E9%A1%8C%E3%81%A8%E8%A7%A3%E8%AA%AC%3E55',\n",
       " 'https://iryoujyouhou.wiki.fc2.com/wiki/2024%3E%E5%8C%BB%E7%99%82%E6%83%85%E5%A0%B1%E3%82%B7%E3%82%B9%E3%83%86%E3%83%A0%E7%B3%BB%3E%E5%95%8F%E9%A1%8C%E3%81%A8%E8%A7%A3%E8%AA%AC%3E26',\n",
       " 'https://iryoujyouhou.wiki.fc2.com/wiki/2024%3E%E5%8C%BB%E7%99%82%E6%83%85%E5%A0%B1%E3%82%B7%E3%82%B9%E3%83%86%E3%83%A0%E7%B3%BB%3E%E5%95%8F%E9%A1%8C%E3%81%A8%E8%A7%A3%E8%AA%AC%3E56',\n",
       " 'https://iryoujyouhou.wiki.fc2.com/wiki/2024%3E%E5%8C%BB%E7%99%82%E6%83%85%E5%A0%B1%E3%82%B7%E3%82%B9%E3%83%86%E3%83%A0%E7%B3%BB%3E%E5%95%8F%E9%A1%8C%E3%81%A8%E8%A7%A3%E8%AA%AC%3E27',\n",
       " 'https://iryoujyouhou.wiki.fc2.com/wiki/2024%3E%E5%8C%BB%E7%99%82%E6%83%85%E5%A0%B1%E3%82%B7%E3%82%B9%E3%83%86%E3%83%A0%E7%B3%BB%3E%E5%95%8F%E9%A1%8C%E3%81%A8%E8%A7%A3%E8%AA%AC%3E57',\n",
       " 'https://iryoujyouhou.wiki.fc2.com/wiki/2024%3E%E5%8C%BB%E7%99%82%E6%83%85%E5%A0%B1%E3%82%B7%E3%82%B9%E3%83%86%E3%83%A0%E7%B3%BB%3E%E5%95%8F%E9%A1%8C%E3%81%A8%E8%A7%A3%E8%AA%AC%3E28',\n",
       " 'https://iryoujyouhou.wiki.fc2.com/wiki/2024%3E%E5%8C%BB%E7%99%82%E6%83%85%E5%A0%B1%E3%82%B7%E3%82%B9%E3%83%86%E3%83%A0%E7%B3%BB%3E%E5%95%8F%E9%A1%8C%E3%81%A8%E8%A7%A3%E8%AA%AC%3E58',\n",
       " 'https://iryoujyouhou.wiki.fc2.com/wiki/2024%3E%E5%8C%BB%E7%99%82%E6%83%85%E5%A0%B1%E3%82%B7%E3%82%B9%E3%83%86%E3%83%A0%E7%B3%BB%3E%E5%95%8F%E9%A1%8C%E3%81%A8%E8%A7%A3%E8%AA%AC%3E29',\n",
       " 'https://iryoujyouhou.wiki.fc2.com/wiki/2024%3E%E5%8C%BB%E7%99%82%E6%83%85%E5%A0%B1%E3%82%B7%E3%82%B9%E3%83%86%E3%83%A0%E7%B3%BB%3E%E5%95%8F%E9%A1%8C%E3%81%A8%E8%A7%A3%E8%AA%AC%3E59',\n",
       " 'https://iryoujyouhou.wiki.fc2.com/wiki/2024%3E%E5%8C%BB%E7%99%82%E6%83%85%E5%A0%B1%E3%82%B7%E3%82%B9%E3%83%86%E3%83%A0%E7%B3%BB%3E%E5%95%8F%E9%A1%8C%E3%81%A8%E8%A7%A3%E8%AA%AC%3E30',\n",
       " 'https://iryoujyouhou.wiki.fc2.com/wiki/2024%3E%E5%8C%BB%E7%99%82%E6%83%85%E5%A0%B1%E3%82%B7%E3%82%B9%E3%83%86%E3%83%A0%E7%B3%BB%3E%E5%95%8F%E9%A1%8C%E3%81%A8%E8%A7%A3%E8%AA%AC%3E60']"
      ]
     },
     "execution_count": 8,
     "metadata": {},
     "output_type": "execute_result"
    }
   ],
   "source": [
    "question_urls"
   ]
  },
  {
   "cell_type": "code",
   "execution_count": 10,
   "metadata": {},
   "outputs": [
    {
     "name": "stdout",
     "output_type": "stream",
     "text": [
      "https://iryoujyouhou.wiki.fc2.com/wiki/2024%3E%E5%8C%BB%E7%99%82%E6%83%85%E5%A0%B1%E3%82%B7%E3%82%B9%E3%83%86%E3%83%A0%E7%B3%BB%3E%E5%95%8F%E9%A1%8C%E3%81%A8%E8%A7%A3%E8%AA%AC%3E01: completed\n",
      "https://iryoujyouhou.wiki.fc2.com/wiki/2024%3E%E5%8C%BB%E7%99%82%E6%83%85%E5%A0%B1%E3%82%B7%E3%82%B9%E3%83%86%E3%83%A0%E7%B3%BB%3E%E5%95%8F%E9%A1%8C%E3%81%A8%E8%A7%A3%E8%AA%AC%3E31: completed\n",
      "https://iryoujyouhou.wiki.fc2.com/wiki/2024%3E%E5%8C%BB%E7%99%82%E6%83%85%E5%A0%B1%E3%82%B7%E3%82%B9%E3%83%86%E3%83%A0%E7%B3%BB%3E%E5%95%8F%E9%A1%8C%E3%81%A8%E8%A7%A3%E8%AA%AC%3E02: completed\n",
      "https://iryoujyouhou.wiki.fc2.com/wiki/2024%3E%E5%8C%BB%E7%99%82%E6%83%85%E5%A0%B1%E3%82%B7%E3%82%B9%E3%83%86%E3%83%A0%E7%B3%BB%3E%E5%95%8F%E9%A1%8C%E3%81%A8%E8%A7%A3%E8%AA%AC%3E32: completed\n",
      "https://iryoujyouhou.wiki.fc2.com/wiki/2024%3E%E5%8C%BB%E7%99%82%E6%83%85%E5%A0%B1%E3%82%B7%E3%82%B9%E3%83%86%E3%83%A0%E7%B3%BB%3E%E5%95%8F%E9%A1%8C%E3%81%A8%E8%A7%A3%E8%AA%AC%3E03: completed\n",
      "https://iryoujyouhou.wiki.fc2.com/wiki/2024%3E%E5%8C%BB%E7%99%82%E6%83%85%E5%A0%B1%E3%82%B7%E3%82%B9%E3%83%86%E3%83%A0%E7%B3%BB%3E%E5%95%8F%E9%A1%8C%E3%81%A8%E8%A7%A3%E8%AA%AC%3E33: completed\n",
      "https://iryoujyouhou.wiki.fc2.com/wiki/2024%3E%E5%8C%BB%E7%99%82%E6%83%85%E5%A0%B1%E3%82%B7%E3%82%B9%E3%83%86%E3%83%A0%E7%B3%BB%3E%E5%95%8F%E9%A1%8C%E3%81%A8%E8%A7%A3%E8%AA%AC%3E04: completed\n",
      "https://iryoujyouhou.wiki.fc2.com/wiki/2024%3E%E5%8C%BB%E7%99%82%E6%83%85%E5%A0%B1%E3%82%B7%E3%82%B9%E3%83%86%E3%83%A0%E7%B3%BB%3E%E5%95%8F%E9%A1%8C%E3%81%A8%E8%A7%A3%E8%AA%AC%3E34: completed\n",
      "https://iryoujyouhou.wiki.fc2.com/wiki/2024%3E%E5%8C%BB%E7%99%82%E6%83%85%E5%A0%B1%E3%82%B7%E3%82%B9%E3%83%86%E3%83%A0%E7%B3%BB%3E%E5%95%8F%E9%A1%8C%E3%81%A8%E8%A7%A3%E8%AA%AC%3E05: completed\n",
      "https://iryoujyouhou.wiki.fc2.com/wiki/2024%3E%E5%8C%BB%E7%99%82%E6%83%85%E5%A0%B1%E3%82%B7%E3%82%B9%E3%83%86%E3%83%A0%E7%B3%BB%3E%E5%95%8F%E9%A1%8C%E3%81%A8%E8%A7%A3%E8%AA%AC%3E35: completed\n",
      "https://iryoujyouhou.wiki.fc2.com/wiki/2024%3E%E5%8C%BB%E7%99%82%E6%83%85%E5%A0%B1%E3%82%B7%E3%82%B9%E3%83%86%E3%83%A0%E7%B3%BB%3E%E5%95%8F%E9%A1%8C%E3%81%A8%E8%A7%A3%E8%AA%AC%3E06: completed\n",
      "https://iryoujyouhou.wiki.fc2.com/wiki/2024%3E%E5%8C%BB%E7%99%82%E6%83%85%E5%A0%B1%E3%82%B7%E3%82%B9%E3%83%86%E3%83%A0%E7%B3%BB%3E%E5%95%8F%E9%A1%8C%E3%81%A8%E8%A7%A3%E8%AA%AC%3E36: completed\n",
      "https://iryoujyouhou.wiki.fc2.com/wiki/2024%3E%E5%8C%BB%E7%99%82%E6%83%85%E5%A0%B1%E3%82%B7%E3%82%B9%E3%83%86%E3%83%A0%E7%B3%BB%3E%E5%95%8F%E9%A1%8C%E3%81%A8%E8%A7%A3%E8%AA%AC%3E07: completed\n",
      "https://iryoujyouhou.wiki.fc2.com/wiki/2024%3E%E5%8C%BB%E7%99%82%E6%83%85%E5%A0%B1%E3%82%B7%E3%82%B9%E3%83%86%E3%83%A0%E7%B3%BB%3E%E5%95%8F%E9%A1%8C%E3%81%A8%E8%A7%A3%E8%AA%AC%3E37: completed\n",
      "https://iryoujyouhou.wiki.fc2.com/wiki/2024%3E%E5%8C%BB%E7%99%82%E6%83%85%E5%A0%B1%E3%82%B7%E3%82%B9%E3%83%86%E3%83%A0%E7%B3%BB%3E%E5%95%8F%E9%A1%8C%E3%81%A8%E8%A7%A3%E8%AA%AC%3E08: completed\n",
      "https://iryoujyouhou.wiki.fc2.com/wiki/2024%3E%E5%8C%BB%E7%99%82%E6%83%85%E5%A0%B1%E3%82%B7%E3%82%B9%E3%83%86%E3%83%A0%E7%B3%BB%3E%E5%95%8F%E9%A1%8C%E3%81%A8%E8%A7%A3%E8%AA%AC%3E38: completed\n",
      "https://iryoujyouhou.wiki.fc2.com/wiki/2024%3E%E5%8C%BB%E7%99%82%E6%83%85%E5%A0%B1%E3%82%B7%E3%82%B9%E3%83%86%E3%83%A0%E7%B3%BB%3E%E5%95%8F%E9%A1%8C%E3%81%A8%E8%A7%A3%E8%AA%AC%3E09: completed\n",
      "https://iryoujyouhou.wiki.fc2.com/wiki/2024%3E%E5%8C%BB%E7%99%82%E6%83%85%E5%A0%B1%E3%82%B7%E3%82%B9%E3%83%86%E3%83%A0%E7%B3%BB%3E%E5%95%8F%E9%A1%8C%E3%81%A8%E8%A7%A3%E8%AA%AC%3E39: completed\n",
      "https://iryoujyouhou.wiki.fc2.com/wiki/2024%3E%E5%8C%BB%E7%99%82%E6%83%85%E5%A0%B1%E3%82%B7%E3%82%B9%E3%83%86%E3%83%A0%E7%B3%BB%3E%E5%95%8F%E9%A1%8C%E3%81%A8%E8%A7%A3%E8%AA%AC%3E10: completed\n",
      "https://iryoujyouhou.wiki.fc2.com/wiki/2024%3E%E5%8C%BB%E7%99%82%E6%83%85%E5%A0%B1%E3%82%B7%E3%82%B9%E3%83%86%E3%83%A0%E7%B3%BB%3E%E5%95%8F%E9%A1%8C%E3%81%A8%E8%A7%A3%E8%AA%AC%3E40: completed\n",
      "https://iryoujyouhou.wiki.fc2.com/wiki/2024%3E%E5%8C%BB%E7%99%82%E6%83%85%E5%A0%B1%E3%82%B7%E3%82%B9%E3%83%86%E3%83%A0%E7%B3%BB%3E%E5%95%8F%E9%A1%8C%E3%81%A8%E8%A7%A3%E8%AA%AC%3E11: completed\n",
      "https://iryoujyouhou.wiki.fc2.com/wiki/2024%3E%E5%8C%BB%E7%99%82%E6%83%85%E5%A0%B1%E3%82%B7%E3%82%B9%E3%83%86%E3%83%A0%E7%B3%BB%3E%E5%95%8F%E9%A1%8C%E3%81%A8%E8%A7%A3%E8%AA%AC%3E41: completed\n",
      "https://iryoujyouhou.wiki.fc2.com/wiki/2024%3E%E5%8C%BB%E7%99%82%E6%83%85%E5%A0%B1%E3%82%B7%E3%82%B9%E3%83%86%E3%83%A0%E7%B3%BB%3E%E5%95%8F%E9%A1%8C%E3%81%A8%E8%A7%A3%E8%AA%AC%3E12: completed\n",
      "https://iryoujyouhou.wiki.fc2.com/wiki/2024%3E%E5%8C%BB%E7%99%82%E6%83%85%E5%A0%B1%E3%82%B7%E3%82%B9%E3%83%86%E3%83%A0%E7%B3%BB%3E%E5%95%8F%E9%A1%8C%E3%81%A8%E8%A7%A3%E8%AA%AC%3E42: completed\n",
      "https://iryoujyouhou.wiki.fc2.com/wiki/2024%3E%E5%8C%BB%E7%99%82%E6%83%85%E5%A0%B1%E3%82%B7%E3%82%B9%E3%83%86%E3%83%A0%E7%B3%BB%3E%E5%95%8F%E9%A1%8C%E3%81%A8%E8%A7%A3%E8%AA%AC%3E13: completed\n",
      "https://iryoujyouhou.wiki.fc2.com/wiki/2024%3E%E5%8C%BB%E7%99%82%E6%83%85%E5%A0%B1%E3%82%B7%E3%82%B9%E3%83%86%E3%83%A0%E7%B3%BB%3E%E5%95%8F%E9%A1%8C%E3%81%A8%E8%A7%A3%E8%AA%AC%3E43: completed\n",
      "https://iryoujyouhou.wiki.fc2.com/wiki/2024%3E%E5%8C%BB%E7%99%82%E6%83%85%E5%A0%B1%E3%82%B7%E3%82%B9%E3%83%86%E3%83%A0%E7%B3%BB%3E%E5%95%8F%E9%A1%8C%E3%81%A8%E8%A7%A3%E8%AA%AC%3E14: completed\n",
      "https://iryoujyouhou.wiki.fc2.com/wiki/2024%3E%E5%8C%BB%E7%99%82%E6%83%85%E5%A0%B1%E3%82%B7%E3%82%B9%E3%83%86%E3%83%A0%E7%B3%BB%3E%E5%95%8F%E9%A1%8C%E3%81%A8%E8%A7%A3%E8%AA%AC%3E44: completed\n",
      "https://iryoujyouhou.wiki.fc2.com/wiki/2024%3E%E5%8C%BB%E7%99%82%E6%83%85%E5%A0%B1%E3%82%B7%E3%82%B9%E3%83%86%E3%83%A0%E7%B3%BB%3E%E5%95%8F%E9%A1%8C%E3%81%A8%E8%A7%A3%E8%AA%AC%3E15: completed\n",
      "https://iryoujyouhou.wiki.fc2.com/wiki/2024%3E%E5%8C%BB%E7%99%82%E6%83%85%E5%A0%B1%E3%82%B7%E3%82%B9%E3%83%86%E3%83%A0%E7%B3%BB%3E%E5%95%8F%E9%A1%8C%E3%81%A8%E8%A7%A3%E8%AA%AC%3E45: completed\n",
      "https://iryoujyouhou.wiki.fc2.com/wiki/2024%3E%E5%8C%BB%E7%99%82%E6%83%85%E5%A0%B1%E3%82%B7%E3%82%B9%E3%83%86%E3%83%A0%E7%B3%BB%3E%E5%95%8F%E9%A1%8C%E3%81%A8%E8%A7%A3%E8%AA%AC%3E16: completed\n",
      "https://iryoujyouhou.wiki.fc2.com/wiki/2024%3E%E5%8C%BB%E7%99%82%E6%83%85%E5%A0%B1%E3%82%B7%E3%82%B9%E3%83%86%E3%83%A0%E7%B3%BB%3E%E5%95%8F%E9%A1%8C%E3%81%A8%E8%A7%A3%E8%AA%AC%3E46: completed\n",
      "https://iryoujyouhou.wiki.fc2.com/wiki/2024%3E%E5%8C%BB%E7%99%82%E6%83%85%E5%A0%B1%E3%82%B7%E3%82%B9%E3%83%86%E3%83%A0%E7%B3%BB%3E%E5%95%8F%E9%A1%8C%E3%81%A8%E8%A7%A3%E8%AA%AC%3E17: completed\n",
      "https://iryoujyouhou.wiki.fc2.com/wiki/2024%3E%E5%8C%BB%E7%99%82%E6%83%85%E5%A0%B1%E3%82%B7%E3%82%B9%E3%83%86%E3%83%A0%E7%B3%BB%3E%E5%95%8F%E9%A1%8C%E3%81%A8%E8%A7%A3%E8%AA%AC%3E47: completed\n",
      "https://iryoujyouhou.wiki.fc2.com/wiki/2024%3E%E5%8C%BB%E7%99%82%E6%83%85%E5%A0%B1%E3%82%B7%E3%82%B9%E3%83%86%E3%83%A0%E7%B3%BB%3E%E5%95%8F%E9%A1%8C%E3%81%A8%E8%A7%A3%E8%AA%AC%3E18: completed\n",
      "https://iryoujyouhou.wiki.fc2.com/wiki/2024%3E%E5%8C%BB%E7%99%82%E6%83%85%E5%A0%B1%E3%82%B7%E3%82%B9%E3%83%86%E3%83%A0%E7%B3%BB%3E%E5%95%8F%E9%A1%8C%E3%81%A8%E8%A7%A3%E8%AA%AC%3E48: completed\n",
      "https://iryoujyouhou.wiki.fc2.com/wiki/2024%3E%E5%8C%BB%E7%99%82%E6%83%85%E5%A0%B1%E3%82%B7%E3%82%B9%E3%83%86%E3%83%A0%E7%B3%BB%3E%E5%95%8F%E9%A1%8C%E3%81%A8%E8%A7%A3%E8%AA%AC%3E19: completed\n",
      "https://iryoujyouhou.wiki.fc2.com/wiki/2024%3E%E5%8C%BB%E7%99%82%E6%83%85%E5%A0%B1%E3%82%B7%E3%82%B9%E3%83%86%E3%83%A0%E7%B3%BB%3E%E5%95%8F%E9%A1%8C%E3%81%A8%E8%A7%A3%E8%AA%AC%3E49: completed\n",
      "https://iryoujyouhou.wiki.fc2.com/wiki/2024%3E%E5%8C%BB%E7%99%82%E6%83%85%E5%A0%B1%E3%82%B7%E3%82%B9%E3%83%86%E3%83%A0%E7%B3%BB%3E%E5%95%8F%E9%A1%8C%E3%81%A8%E8%A7%A3%E8%AA%AC%3E20: completed\n",
      "https://iryoujyouhou.wiki.fc2.com/wiki/2024%3E%E5%8C%BB%E7%99%82%E6%83%85%E5%A0%B1%E3%82%B7%E3%82%B9%E3%83%86%E3%83%A0%E7%B3%BB%3E%E5%95%8F%E9%A1%8C%E3%81%A8%E8%A7%A3%E8%AA%AC%3E50: completed\n",
      "https://iryoujyouhou.wiki.fc2.com/wiki/2024%3E%E5%8C%BB%E7%99%82%E6%83%85%E5%A0%B1%E3%82%B7%E3%82%B9%E3%83%86%E3%83%A0%E7%B3%BB%3E%E5%95%8F%E9%A1%8C%E3%81%A8%E8%A7%A3%E8%AA%AC%3E21: completed\n",
      "https://iryoujyouhou.wiki.fc2.com/wiki/2024%3E%E5%8C%BB%E7%99%82%E6%83%85%E5%A0%B1%E3%82%B7%E3%82%B9%E3%83%86%E3%83%A0%E7%B3%BB%3E%E5%95%8F%E9%A1%8C%E3%81%A8%E8%A7%A3%E8%AA%AC%3E51: completed\n",
      "https://iryoujyouhou.wiki.fc2.com/wiki/2024%3E%E5%8C%BB%E7%99%82%E6%83%85%E5%A0%B1%E3%82%B7%E3%82%B9%E3%83%86%E3%83%A0%E7%B3%BB%3E%E5%95%8F%E9%A1%8C%E3%81%A8%E8%A7%A3%E8%AA%AC%3E22: completed\n",
      "https://iryoujyouhou.wiki.fc2.com/wiki/2024%3E%E5%8C%BB%E7%99%82%E6%83%85%E5%A0%B1%E3%82%B7%E3%82%B9%E3%83%86%E3%83%A0%E7%B3%BB%3E%E5%95%8F%E9%A1%8C%E3%81%A8%E8%A7%A3%E8%AA%AC%3E52: completed\n",
      "https://iryoujyouhou.wiki.fc2.com/wiki/2024%3E%E5%8C%BB%E7%99%82%E6%83%85%E5%A0%B1%E3%82%B7%E3%82%B9%E3%83%86%E3%83%A0%E7%B3%BB%3E%E5%95%8F%E9%A1%8C%E3%81%A8%E8%A7%A3%E8%AA%AC%3E23: completed\n",
      "https://iryoujyouhou.wiki.fc2.com/wiki/2024%3E%E5%8C%BB%E7%99%82%E6%83%85%E5%A0%B1%E3%82%B7%E3%82%B9%E3%83%86%E3%83%A0%E7%B3%BB%3E%E5%95%8F%E9%A1%8C%E3%81%A8%E8%A7%A3%E8%AA%AC%3E53: completed\n",
      "https://iryoujyouhou.wiki.fc2.com/wiki/2024%3E%E5%8C%BB%E7%99%82%E6%83%85%E5%A0%B1%E3%82%B7%E3%82%B9%E3%83%86%E3%83%A0%E7%B3%BB%3E%E5%95%8F%E9%A1%8C%E3%81%A8%E8%A7%A3%E8%AA%AC%3E24: completed\n",
      "https://iryoujyouhou.wiki.fc2.com/wiki/2024%3E%E5%8C%BB%E7%99%82%E6%83%85%E5%A0%B1%E3%82%B7%E3%82%B9%E3%83%86%E3%83%A0%E7%B3%BB%3E%E5%95%8F%E9%A1%8C%E3%81%A8%E8%A7%A3%E8%AA%AC%3E54: completed\n",
      "https://iryoujyouhou.wiki.fc2.com/wiki/2024%3E%E5%8C%BB%E7%99%82%E6%83%85%E5%A0%B1%E3%82%B7%E3%82%B9%E3%83%86%E3%83%A0%E7%B3%BB%3E%E5%95%8F%E9%A1%8C%E3%81%A8%E8%A7%A3%E8%AA%AC%3E25: completed\n",
      "https://iryoujyouhou.wiki.fc2.com/wiki/2024%3E%E5%8C%BB%E7%99%82%E6%83%85%E5%A0%B1%E3%82%B7%E3%82%B9%E3%83%86%E3%83%A0%E7%B3%BB%3E%E5%95%8F%E9%A1%8C%E3%81%A8%E8%A7%A3%E8%AA%AC%3E55: completed\n",
      "https://iryoujyouhou.wiki.fc2.com/wiki/2024%3E%E5%8C%BB%E7%99%82%E6%83%85%E5%A0%B1%E3%82%B7%E3%82%B9%E3%83%86%E3%83%A0%E7%B3%BB%3E%E5%95%8F%E9%A1%8C%E3%81%A8%E8%A7%A3%E8%AA%AC%3E26: completed\n",
      "https://iryoujyouhou.wiki.fc2.com/wiki/2024%3E%E5%8C%BB%E7%99%82%E6%83%85%E5%A0%B1%E3%82%B7%E3%82%B9%E3%83%86%E3%83%A0%E7%B3%BB%3E%E5%95%8F%E9%A1%8C%E3%81%A8%E8%A7%A3%E8%AA%AC%3E56: completed\n",
      "https://iryoujyouhou.wiki.fc2.com/wiki/2024%3E%E5%8C%BB%E7%99%82%E6%83%85%E5%A0%B1%E3%82%B7%E3%82%B9%E3%83%86%E3%83%A0%E7%B3%BB%3E%E5%95%8F%E9%A1%8C%E3%81%A8%E8%A7%A3%E8%AA%AC%3E27: completed\n",
      "https://iryoujyouhou.wiki.fc2.com/wiki/2024%3E%E5%8C%BB%E7%99%82%E6%83%85%E5%A0%B1%E3%82%B7%E3%82%B9%E3%83%86%E3%83%A0%E7%B3%BB%3E%E5%95%8F%E9%A1%8C%E3%81%A8%E8%A7%A3%E8%AA%AC%3E57: completed\n",
      "https://iryoujyouhou.wiki.fc2.com/wiki/2024%3E%E5%8C%BB%E7%99%82%E6%83%85%E5%A0%B1%E3%82%B7%E3%82%B9%E3%83%86%E3%83%A0%E7%B3%BB%3E%E5%95%8F%E9%A1%8C%E3%81%A8%E8%A7%A3%E8%AA%AC%3E28: completed\n",
      "https://iryoujyouhou.wiki.fc2.com/wiki/2024%3E%E5%8C%BB%E7%99%82%E6%83%85%E5%A0%B1%E3%82%B7%E3%82%B9%E3%83%86%E3%83%A0%E7%B3%BB%3E%E5%95%8F%E9%A1%8C%E3%81%A8%E8%A7%A3%E8%AA%AC%3E58: completed\n",
      "https://iryoujyouhou.wiki.fc2.com/wiki/2024%3E%E5%8C%BB%E7%99%82%E6%83%85%E5%A0%B1%E3%82%B7%E3%82%B9%E3%83%86%E3%83%A0%E7%B3%BB%3E%E5%95%8F%E9%A1%8C%E3%81%A8%E8%A7%A3%E8%AA%AC%3E29: completed\n",
      "https://iryoujyouhou.wiki.fc2.com/wiki/2024%3E%E5%8C%BB%E7%99%82%E6%83%85%E5%A0%B1%E3%82%B7%E3%82%B9%E3%83%86%E3%83%A0%E7%B3%BB%3E%E5%95%8F%E9%A1%8C%E3%81%A8%E8%A7%A3%E8%AA%AC%3E59: completed\n",
      "https://iryoujyouhou.wiki.fc2.com/wiki/2024%3E%E5%8C%BB%E7%99%82%E6%83%85%E5%A0%B1%E3%82%B7%E3%82%B9%E3%83%86%E3%83%A0%E7%B3%BB%3E%E5%95%8F%E9%A1%8C%E3%81%A8%E8%A7%A3%E8%AA%AC%3E30: completed\n",
      "https://iryoujyouhou.wiki.fc2.com/wiki/2024%3E%E5%8C%BB%E7%99%82%E6%83%85%E5%A0%B1%E3%82%B7%E3%82%B9%E3%83%86%E3%83%A0%E7%B3%BB%3E%E5%95%8F%E9%A1%8C%E3%81%A8%E8%A7%A3%E8%AA%AC%3E60: completed\n"
     ]
    }
   ],
   "source": [
    "for url in question_urls:\n",
    "    extractQuestion(url, folder_path)\n",
    "    time.sleep(5)\n",
    "    print(f\"{url}: completed\")\n"
   ]
  },
  {
   "cell_type": "code",
   "execution_count": null,
   "metadata": {},
   "outputs": [],
   "source": []
  }
 ],
 "metadata": {
  "kernelspec": {
   "display_name": "web-scraping",
   "language": "python",
   "name": "web-scraping"
  },
  "language_info": {
   "codemirror_mode": {
    "name": "ipython",
    "version": 3
   },
   "file_extension": ".py",
   "mimetype": "text/x-python",
   "name": "python",
   "nbconvert_exporter": "python",
   "pygments_lexer": "ipython3",
   "version": "3.12.9"
  }
 },
 "nbformat": 4,
 "nbformat_minor": 2
}
